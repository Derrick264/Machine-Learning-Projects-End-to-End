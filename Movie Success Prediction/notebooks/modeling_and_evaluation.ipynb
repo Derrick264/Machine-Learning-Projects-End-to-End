{
 "cells": [
  {
   "cell_type": "markdown",
   "id": "d7952bfd",
   "metadata": {},
   "source": [
    "### Movie Success Prediction - ML Modeling & Evaluation\n",
    "#### Step-by-step machine learning workflow on the cleaned movie dataset\n"
   ]
  },
  {
   "cell_type": "code",
   "execution_count": 1,
   "id": "a68b3be3",
   "metadata": {},
   "outputs": [],
   "source": [
    "# 1. Imports: Libraries for ML, data handling, and visualization\n",
    "\n",
    "import pandas as pd\n",
    "import numpy as np\n",
    "\n",
    "from sklearn.model_selection import train_test_split, GridSearchCV\n",
    "from sklearn.ensemble import RandomForestClassifier, GradientBoostingClassifier\n",
    "from sklearn.metrics import classification_report, confusion_matrix, roc_auc_score\n",
    "\n",
    "import matplotlib.pyplot as plt\n",
    "import seaborn as sns\n",
    "\n",
    "import joblib"
   ]
  },
  {
   "cell_type": "code",
   "execution_count": 9,
   "id": "072e0e7b",
   "metadata": {},
   "outputs": [
    {
     "data": {
      "text/plain": [
       "Index(['color', 'director_name', 'num_critic_for_reviews', 'duration',\n",
       "       'director_facebook_likes', 'actor_3_facebook_likes', 'actor_2_name',\n",
       "       'actor_1_facebook_likes', 'gross', 'actor_1_name', 'num_voted_users',\n",
       "       'cast_total_facebook_likes', 'actor_3_name', 'facenumber_in_poster',\n",
       "       'plot_keywords', 'num_user_for_reviews', 'language', 'country',\n",
       "       'content_rating', 'budget', 'title_year', 'actor_2_facebook_likes',\n",
       "       'imdb_score', 'aspect_ratio', 'movie_facebook_likes', 'action',\n",
       "       'adventure', 'animation', 'biography', 'comedy', 'crime', 'documentary',\n",
       "       'drama', 'family', 'fantasy', 'film-noir', 'game-show', 'history',\n",
       "       'horror', 'music', 'musical', 'mystery', 'news', 'reality-tv',\n",
       "       'romance', 'sci-fi', 'short', 'sport', 'thriller', 'war', 'western',\n",
       "       'log_gross', 'log_budget', 'log_cast_total_facebook_likes',\n",
       "       'log_num_voted_users', 'roi', 'star_power', 'movie_age',\n",
       "       'success_category', 'aspect_ratio_missing'],\n",
       "      dtype='object')"
      ]
     },
     "execution_count": 9,
     "metadata": {},
     "output_type": "execute_result"
    }
   ],
   "source": [
    "df.columns"
   ]
  },
  {
   "cell_type": "markdown",
   "id": "1ed8dee5",
   "metadata": {},
   "source": [
    "#### 2. Load the Cleaned Dataset\n"
   ]
  },
  {
   "cell_type": "code",
   "execution_count": 2,
   "id": "39ed3c62",
   "metadata": {},
   "outputs": [
    {
     "name": "stdout",
     "output_type": "stream",
     "text": [
      "Dataset shape: (3857, 60)\n"
     ]
    },
    {
     "data": {
      "text/html": [
       "<div>\n",
       "<style scoped>\n",
       "    .dataframe tbody tr th:only-of-type {\n",
       "        vertical-align: middle;\n",
       "    }\n",
       "\n",
       "    .dataframe tbody tr th {\n",
       "        vertical-align: top;\n",
       "    }\n",
       "\n",
       "    .dataframe thead th {\n",
       "        text-align: right;\n",
       "    }\n",
       "</style>\n",
       "<table border=\"1\" class=\"dataframe\">\n",
       "  <thead>\n",
       "    <tr style=\"text-align: right;\">\n",
       "      <th></th>\n",
       "      <th>color</th>\n",
       "      <th>director_name</th>\n",
       "      <th>num_critic_for_reviews</th>\n",
       "      <th>duration</th>\n",
       "      <th>director_facebook_likes</th>\n",
       "      <th>actor_3_facebook_likes</th>\n",
       "      <th>actor_2_name</th>\n",
       "      <th>actor_1_facebook_likes</th>\n",
       "      <th>gross</th>\n",
       "      <th>actor_1_name</th>\n",
       "      <th>...</th>\n",
       "      <th>western</th>\n",
       "      <th>log_gross</th>\n",
       "      <th>log_budget</th>\n",
       "      <th>log_cast_total_facebook_likes</th>\n",
       "      <th>log_num_voted_users</th>\n",
       "      <th>roi</th>\n",
       "      <th>star_power</th>\n",
       "      <th>movie_age</th>\n",
       "      <th>success_category</th>\n",
       "      <th>aspect_ratio_missing</th>\n",
       "    </tr>\n",
       "  </thead>\n",
       "  <tbody>\n",
       "    <tr>\n",
       "      <th>0</th>\n",
       "      <td>1.0</td>\n",
       "      <td>79</td>\n",
       "      <td>723.0</td>\n",
       "      <td>178.0</td>\n",
       "      <td>0.0</td>\n",
       "      <td>855.0</td>\n",
       "      <td>104</td>\n",
       "      <td>1000.0</td>\n",
       "      <td>3.324679e+08</td>\n",
       "      <td>155</td>\n",
       "      <td>...</td>\n",
       "      <td>0.0</td>\n",
       "      <td>19.622054</td>\n",
       "      <td>19.113828</td>\n",
       "      <td>8.483636</td>\n",
       "      <td>13.694704</td>\n",
       "      <td>1.662340</td>\n",
       "      <td>2791.0</td>\n",
       "      <td>16.0</td>\n",
       "      <td>Average</td>\n",
       "      <td>0</td>\n",
       "    </tr>\n",
       "    <tr>\n",
       "      <th>1</th>\n",
       "      <td>1.0</td>\n",
       "      <td>71</td>\n",
       "      <td>302.0</td>\n",
       "      <td>169.0</td>\n",
       "      <td>563.0</td>\n",
       "      <td>1000.0</td>\n",
       "      <td>103</td>\n",
       "      <td>40000.0</td>\n",
       "      <td>3.094042e+08</td>\n",
       "      <td>101</td>\n",
       "      <td>...</td>\n",
       "      <td>0.0</td>\n",
       "      <td>19.550159</td>\n",
       "      <td>19.113828</td>\n",
       "      <td>10.786242</td>\n",
       "      <td>13.063082</td>\n",
       "      <td>1.547021</td>\n",
       "      <td>46563.0</td>\n",
       "      <td>18.0</td>\n",
       "      <td>Average</td>\n",
       "      <td>0</td>\n",
       "    </tr>\n",
       "    <tr>\n",
       "      <th>2</th>\n",
       "      <td>1.0</td>\n",
       "      <td>185</td>\n",
       "      <td>602.0</td>\n",
       "      <td>148.0</td>\n",
       "      <td>0.0</td>\n",
       "      <td>161.0</td>\n",
       "      <td>104</td>\n",
       "      <td>11000.0</td>\n",
       "      <td>2.000742e+08</td>\n",
       "      <td>155</td>\n",
       "      <td>...</td>\n",
       "      <td>0.0</td>\n",
       "      <td>19.114199</td>\n",
       "      <td>19.113828</td>\n",
       "      <td>9.367430</td>\n",
       "      <td>12.527681</td>\n",
       "      <td>1.000371</td>\n",
       "      <td>11554.0</td>\n",
       "      <td>10.0</td>\n",
       "      <td>Average</td>\n",
       "      <td>0</td>\n",
       "    </tr>\n",
       "    <tr>\n",
       "      <th>3</th>\n",
       "      <td>1.0</td>\n",
       "      <td>33</td>\n",
       "      <td>813.0</td>\n",
       "      <td>164.0</td>\n",
       "      <td>22000.0</td>\n",
       "      <td>23000.0</td>\n",
       "      <td>27</td>\n",
       "      <td>27000.0</td>\n",
       "      <td>3.324679e+08</td>\n",
       "      <td>187</td>\n",
       "      <td>...</td>\n",
       "      <td>0.0</td>\n",
       "      <td>19.622054</td>\n",
       "      <td>19.113828</td>\n",
       "      <td>11.578339</td>\n",
       "      <td>13.950337</td>\n",
       "      <td>1.662340</td>\n",
       "      <td>95000.0</td>\n",
       "      <td>13.0</td>\n",
       "      <td>Average</td>\n",
       "      <td>0</td>\n",
       "    </tr>\n",
       "    <tr>\n",
       "      <th>4</th>\n",
       "      <td>1.0</td>\n",
       "      <td>147</td>\n",
       "      <td>462.0</td>\n",
       "      <td>132.0</td>\n",
       "      <td>475.0</td>\n",
       "      <td>530.0</td>\n",
       "      <td>104</td>\n",
       "      <td>640.0</td>\n",
       "      <td>7.305868e+07</td>\n",
       "      <td>155</td>\n",
       "      <td>...</td>\n",
       "      <td>0.0</td>\n",
       "      <td>18.106774</td>\n",
       "      <td>19.113828</td>\n",
       "      <td>7.535830</td>\n",
       "      <td>12.265308</td>\n",
       "      <td>0.365293</td>\n",
       "      <td>2277.0</td>\n",
       "      <td>13.0</td>\n",
       "      <td>Flop</td>\n",
       "      <td>0</td>\n",
       "    </tr>\n",
       "  </tbody>\n",
       "</table>\n",
       "<p>5 rows × 60 columns</p>\n",
       "</div>"
      ],
      "text/plain": [
       "   color  director_name  num_critic_for_reviews  duration  \\\n",
       "0    1.0             79                   723.0     178.0   \n",
       "1    1.0             71                   302.0     169.0   \n",
       "2    1.0            185                   602.0     148.0   \n",
       "3    1.0             33                   813.0     164.0   \n",
       "4    1.0            147                   462.0     132.0   \n",
       "\n",
       "   director_facebook_likes  actor_3_facebook_likes  actor_2_name  \\\n",
       "0                      0.0                   855.0           104   \n",
       "1                    563.0                  1000.0           103   \n",
       "2                      0.0                   161.0           104   \n",
       "3                  22000.0                 23000.0            27   \n",
       "4                    475.0                   530.0           104   \n",
       "\n",
       "   actor_1_facebook_likes         gross  actor_1_name  ...  western  \\\n",
       "0                  1000.0  3.324679e+08           155  ...      0.0   \n",
       "1                 40000.0  3.094042e+08           101  ...      0.0   \n",
       "2                 11000.0  2.000742e+08           155  ...      0.0   \n",
       "3                 27000.0  3.324679e+08           187  ...      0.0   \n",
       "4                   640.0  7.305868e+07           155  ...      0.0   \n",
       "\n",
       "   log_gross log_budget  log_cast_total_facebook_likes log_num_voted_users  \\\n",
       "0  19.622054  19.113828                       8.483636           13.694704   \n",
       "1  19.550159  19.113828                      10.786242           13.063082   \n",
       "2  19.114199  19.113828                       9.367430           12.527681   \n",
       "3  19.622054  19.113828                      11.578339           13.950337   \n",
       "4  18.106774  19.113828                       7.535830           12.265308   \n",
       "\n",
       "        roi  star_power  movie_age  success_category  aspect_ratio_missing  \n",
       "0  1.662340      2791.0       16.0           Average                     0  \n",
       "1  1.547021     46563.0       18.0           Average                     0  \n",
       "2  1.000371     11554.0       10.0           Average                     0  \n",
       "3  1.662340     95000.0       13.0           Average                     0  \n",
       "4  0.365293      2277.0       13.0              Flop                     0  \n",
       "\n",
       "[5 rows x 60 columns]"
      ]
     },
     "execution_count": 2,
     "metadata": {},
     "output_type": "execute_result"
    }
   ],
   "source": [
    "# Load your final cleaned dataset\n",
    "df = pd.read_csv(r'C:\\Users\\Derrick T\\Desktop\\Movie Success\\data\\final_cleaned_featured_movie_data.csv')\n",
    "\n",
    "print(\"Dataset shape:\", df.shape)\n",
    "df.head()"
   ]
  },
  {
   "cell_type": "markdown",
   "id": "b5fe8b81",
   "metadata": {},
   "source": [
    "#### 3. Train/Test Split\n"
   ]
  },
  {
   "cell_type": "code",
   "execution_count": 3,
   "id": "e632fadd",
   "metadata": {},
   "outputs": [
    {
     "name": "stdout",
     "output_type": "stream",
     "text": [
      "Train shape: (3085, 59) Test shape: (772, 59)\n"
     ]
    }
   ],
   "source": [
    "# Select features and target variable\n",
    "X = df.drop(['success_category'], axis=1)\n",
    "y = df['success_category']\n",
    "\n",
    "# Stratified split for balanced classes in train/test\n",
    "X_train, X_test, y_train, y_test = train_test_split(\n",
    "    X, y, test_size=0.2, random_state=42, stratify=y\n",
    ")\n",
    "\n",
    "print(\"Train shape:\", X_train.shape, \"Test shape:\", X_test.shape)"
   ]
  },
  {
   "cell_type": "markdown",
   "id": "6744a0a3",
   "metadata": {},
   "source": [
    "#### 4. Encoding the missed out columns in data cleaning process"
   ]
  },
  {
   "cell_type": "code",
   "execution_count": 4,
   "id": "f66bcb98",
   "metadata": {},
   "outputs": [
    {
     "name": "stdout",
     "output_type": "stream",
     "text": [
      "Object columns in features: ['actor_3_name', 'plot_keywords']\n"
     ]
    }
   ],
   "source": [
    "print(\"Object columns in features:\", X.select_dtypes(include='object').columns.tolist())"
   ]
  },
  {
   "cell_type": "code",
   "execution_count": 5,
   "id": "fd885249",
   "metadata": {},
   "outputs": [],
   "source": [
    "from sklearn.preprocessing import LabelEncoder\n",
    "\n",
    "for col in X.select_dtypes(include='object').columns:\n",
    "    lbl = LabelEncoder()\n",
    "    # Fill NAs with 'Unknown' beforehand if any\n",
    "    X[col] = X[col].fillna('Unknown')\n",
    "    X[col] = lbl.fit_transform(X[col])"
   ]
  },
  {
   "cell_type": "markdown",
   "id": "1714d6e9",
   "metadata": {},
   "source": [
    "#### Re-Splitting"
   ]
  },
  {
   "cell_type": "code",
   "execution_count": 6,
   "id": "9d83b958",
   "metadata": {},
   "outputs": [],
   "source": [
    "X_train, X_test, y_train, y_test = train_test_split(\n",
    "    X, y, test_size=0.2, random_state=42, stratify=y\n",
    ")"
   ]
  },
  {
   "cell_type": "markdown",
   "id": "7f28d0a2",
   "metadata": {},
   "source": [
    "#### 4. Baseline Model Training (Random Forest)\n"
   ]
  },
  {
   "cell_type": "code",
   "execution_count": 7,
   "id": "cd117eea",
   "metadata": {},
   "outputs": [
    {
     "name": "stdout",
     "output_type": "stream",
     "text": [
      "Random Forest trained.\n"
     ]
    }
   ],
   "source": [
    "# Random Forest classifier training\n",
    "rf = RandomForestClassifier(random_state=42)\n",
    "rf.fit(X_train, y_train)\n",
    "\n",
    "print(\"Random Forest trained.\")"
   ]
  },
  {
   "cell_type": "markdown",
   "id": "ace7dfb8",
   "metadata": {},
   "source": [
    "#### 5. Baseline Model Training (Gradient Boosting)\n"
   ]
  },
  {
   "cell_type": "code",
   "execution_count": 8,
   "id": "dcba6fc3",
   "metadata": {},
   "outputs": [
    {
     "name": "stdout",
     "output_type": "stream",
     "text": [
      "Gradient Boosting trained.\n"
     ]
    }
   ],
   "source": [
    "# Gradient Boosting classifier training\n",
    "gb = GradientBoostingClassifier(random_state=42)\n",
    "gb.fit(X_train, y_train)\n",
    "\n",
    "print(\"Gradient Boosting trained.\")"
   ]
  },
  {
   "cell_type": "markdown",
   "id": "3511ce22",
   "metadata": {},
   "source": [
    "#### 6. Model Evaluation: Random Forest\n"
   ]
  },
  {
   "cell_type": "code",
   "execution_count": 9,
   "id": "1ea89ef5",
   "metadata": {},
   "outputs": [
    {
     "name": "stdout",
     "output_type": "stream",
     "text": [
      "Random Forest Classification Report:\n",
      "               precision    recall  f1-score   support\n",
      "\n",
      "     Average       1.00      1.00      1.00       190\n",
      "        Flop       1.00      1.00      1.00       364\n",
      "         Hit       1.00      1.00      1.00       218\n",
      "\n",
      "    accuracy                           1.00       772\n",
      "   macro avg       1.00      1.00      1.00       772\n",
      "weighted avg       1.00      1.00      1.00       772\n",
      "\n"
     ]
    },
    {
     "data": {
      "image/png": "[encoded data removed]",
      "text/plain": [
       "<Figure size 600x400 with 2 Axes>"
      ]
     },
     "metadata": {},
     "output_type": "display_data"
    },
    {
     "name": "stdout",
     "output_type": "stream",
     "text": [
      "Random Forest ROC-AUC: 1.000\n"
     ]
    }
   ],
   "source": [
    "# RF predictions and report\n",
    "y_pred_rf = rf.predict(X_test)\n",
    "print(\"Random Forest Classification Report:\\n\", classification_report(y_test, y_pred_rf))\n",
    "\n",
    "# Confusion matrix visualization\n",
    "plt.figure(figsize=(6,4))\n",
    "sns.heatmap(confusion_matrix(y_test, y_pred_rf), annot=True, fmt='d', cmap='Blues')\n",
    "plt.title('Random Forest Confusion Matrix')\n",
    "plt.xlabel('Predicted')\n",
    "plt.ylabel('Actual')\n",
    "plt.show()\n",
    "\n",
    "# ROC-AUC for multi-class\n",
    "y_proba_rf = rf.predict_proba(X_test)\n",
    "score_rf = roc_auc_score(pd.get_dummies(y_test), y_proba_rf, average='macro')\n",
    "print(f\"Random Forest ROC-AUC: {score_rf:.3f}\")"
   ]
  },
  {
   "cell_type": "markdown",
   "id": "d729b240",
   "metadata": {},
   "source": [
    "#### 7. Model Evaluation: Gradient Boosting\n"
   ]
  },
  {
   "cell_type": "code",
   "execution_count": 10,
   "id": "c1bc2592",
   "metadata": {},
   "outputs": [
    {
     "name": "stdout",
     "output_type": "stream",
     "text": [
      "Gradient Boosting Classification Report:\n",
      "               precision    recall  f1-score   support\n",
      "\n",
      "     Average       1.00      1.00      1.00       190\n",
      "        Flop       1.00      1.00      1.00       364\n",
      "         Hit       1.00      1.00      1.00       218\n",
      "\n",
      "    accuracy                           1.00       772\n",
      "   macro avg       1.00      1.00      1.00       772\n",
      "weighted avg       1.00      1.00      1.00       772\n",
      "\n"
     ]
    },
    {
     "data": {
      "image/png": "[encoded data removed]",
      "text/plain": [
       "<Figure size 600x400 with 2 Axes>"
      ]
     },
     "metadata": {},
     "output_type": "display_data"
    },
    {
     "name": "stdout",
     "output_type": "stream",
     "text": [
      "Gradient Boosting ROC-AUC: 1.000\n"
     ]
    }
   ],
   "source": [
    "# GB predictions and report\n",
    "y_pred_gb = gb.predict(X_test)\n",
    "print(\"Gradient Boosting Classification Report:\\n\", classification_report(y_test, y_pred_gb))\n",
    "\n",
    "# Confusion matrix visualization\n",
    "plt.figure(figsize=(6,4))\n",
    "sns.heatmap(confusion_matrix(y_test, y_pred_gb), annot=True, fmt='d', cmap='Greens')\n",
    "plt.title('Gradient Boosting Confusion Matrix')\n",
    "plt.xlabel('Predicted')\n",
    "plt.ylabel('Actual')\n",
    "plt.show()\n",
    "\n",
    "# ROC-AUC for multi-class\n",
    "y_proba_gb = gb.predict_proba(X_test)\n",
    "score_gb = roc_auc_score(pd.get_dummies(y_test), y_proba_gb, average='macro')\n",
    "print(f\"Gradient Boosting ROC-AUC: {score_gb:.3f}\")\n"
   ]
  },
  {
   "cell_type": "markdown",
   "id": "d26a0fa6",
   "metadata": {},
   "source": [
    "#### 8. Hyperparameter Tuning: Random Forest Example\n"
   ]
  },
  {
   "cell_type": "code",
   "execution_count": 11,
   "id": "2709c4e3",
   "metadata": {},
   "outputs": [
    {
     "name": "stdout",
     "output_type": "stream",
     "text": [
      "Best RF Params: {'max_depth': None, 'min_samples_split': 2, 'n_estimators': 200}\n"
     ]
    }
   ],
   "source": [
    "# Grid Search for Random Forest hyperparameters\n",
    "param_grid = {\n",
    "    'n_estimators': [100, 200],\n",
    "    'max_depth': [10, 20, None],\n",
    "    'min_samples_split': [2, 5],\n",
    "}\n",
    "\n",
    "grid_rf = GridSearchCV(\n",
    "    RandomForestClassifier(random_state=42),\n",
    "    param_grid,\n",
    "    cv=3,\n",
    "    n_jobs=-1,\n",
    "    scoring='f1_macro'\n",
    ")\n",
    "grid_rf.fit(X_train, y_train)\n",
    "print(\"Best RF Params:\", grid_rf.best_params_)\n",
    "\n",
    "# Get the best RF model\n",
    "rf_best = grid_rf.best_estimator_\n"
   ]
  },
  {
   "cell_type": "markdown",
   "id": "3bd87926",
   "metadata": {},
   "source": [
    "#### 9. Feature Importance (Random Forest)\n"
   ]
  },
  {
   "cell_type": "code",
   "execution_count": 12,
   "id": "a0578036",
   "metadata": {},
   "outputs": [
    {
     "data": {
      "image/png": "[encoded data removed]",
      "text/plain": [
       "<Figure size 800x600 with 1 Axes>"
      ]
     },
     "metadata": {},
     "output_type": "display_data"
    }
   ],
   "source": [
    "# Visualize top features for interpretation\n",
    "importances = rf_best.feature_importances_\n",
    "indices = np.argsort(importances)[::-1]\n",
    "\n",
    "top_n = 15\n",
    "plt.figure(figsize=(8,6))\n",
    "sns.barplot(x=importances[indices][:top_n], y=X.columns[indices][:top_n])\n",
    "plt.title('Top 15 Feature Importances (Random Forest)')\n",
    "plt.xlabel('Importance')\n",
    "plt.ylabel('Feature')\n",
    "plt.show()\n"
   ]
  },
  {
   "cell_type": "markdown",
   "id": "fadeb6e1",
   "metadata": {},
   "source": [
    "#### 10. Save Best Model\n"
   ]
  },
  {
   "cell_type": "code",
   "execution_count": 15,
   "id": "87a42230",
   "metadata": {},
   "outputs": [
    {
     "name": "stdout",
     "output_type": "stream",
     "text": [
      "Saved best Random Forest model.\n"
     ]
    }
   ],
   "source": [
    "joblib.dump(rf_best, r'C:\\Users\\Derrick T\\Desktop\\Movie Success\\models\\rf_best_model.pkl')\n",
    "print(\"Saved best Random Forest model.\")"
   ]
  },
  {
   "cell_type": "markdown",
   "id": "1e265a10",
   "metadata": {},
   "source": [
    "#### 11. Quick Inference Example\n"
   ]
  },
  {
   "cell_type": "code",
   "execution_count": 18,
   "id": "5a0f2efb",
   "metadata": {},
   "outputs": [
    {
     "name": "stdout",
     "output_type": "stream",
     "text": [
      "Predicted success category: ['Hit']\n"
     ]
    }
   ],
   "source": [
    "# Load and make a prediction on a sample test case\n",
    "model = joblib.load(r'C:\\Users\\Derrick T\\Desktop\\Movie Success\\models\\rf_best_model.pkl')\n",
    "sample = X_test.iloc[[0]]\n",
    "print(\"Predicted success category:\", model.predict(sample))"
   ]
  },
  {
   "cell_type": "code",
   "execution_count": 19,
   "id": "90d5827c",
   "metadata": {},
   "outputs": [
    {
     "name": "stdout",
     "output_type": "stream",
     "text": [
      "['color' 'director_name' 'num_critic_for_reviews' 'duration'\n",
      " 'director_facebook_likes' 'actor_3_facebook_likes' 'actor_2_name'\n",
      " 'actor_1_facebook_likes' 'gross' 'actor_1_name' 'num_voted_users'\n",
      " 'cast_total_facebook_likes' 'actor_3_name' 'facenumber_in_poster'\n",
      " 'plot_keywords' 'num_user_for_reviews' 'language' 'country'\n",
      " 'content_rating' 'budget' 'title_year' 'actor_2_facebook_likes'\n",
      " 'imdb_score' 'aspect_ratio' 'movie_facebook_likes' 'action' 'adventure'\n",
      " 'animation' 'biography' 'comedy' 'crime' 'documentary' 'drama' 'family'\n",
      " 'fantasy' 'film-noir' 'game-show' 'history' 'horror' 'music' 'musical'\n",
      " 'mystery' 'news' 'reality-tv' 'romance' 'sci-fi' 'short' 'sport'\n",
      " 'thriller' 'war' 'western' 'log_gross' 'log_budget'\n",
      " 'log_cast_total_facebook_likes' 'log_num_voted_users' 'roi' 'star_power'\n",
      " 'movie_age' 'aspect_ratio_missing']\n"
     ]
    }
   ],
   "source": [
    "print(model.feature_names_in_)"
   ]
  },
  {
   "cell_type": "code",
   "execution_count": 22,
   "id": "76e6f0d5",
   "metadata": {},
   "outputs": [
    {
     "name": "stdout",
     "output_type": "stream",
     "text": [
      "object\n"
     ]
    }
   ],
   "source": [
    "print(y.dtypes)"
   ]
  }
 ],
 "metadata": {
  "kernelspec": {
   "display_name": "Python 3",
   "language": "python",
   "name": "python3"
  },
  "language_info": {
   "codemirror_mode": {
    "name": "ipython",
    "version": 3
   },
   "file_extension": ".py",
   "mimetype": "text/x-python",
   "name": "python",
   "nbconvert_exporter": "python",
   "pygments_lexer": "ipython3",
   "version": "3.12.2"
  }
 },
 "nbformat": 4,
 "nbformat_minor": 5
}
